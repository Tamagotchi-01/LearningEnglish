{
 "cells": [
  {
   "cell_type": "code",
   "execution_count": 1,
   "metadata": {},
   "outputs": [],
   "source": [
    "from nltk.tokenize import sent_tokenize, word_tokenize\n",
    "from deep_translator import GoogleTranslator\n",
    "from nltk.stem import WordNetLemmatizer\n",
    "from nltk.corpus import stopwords\n",
    "import nltk\n",
    "import pandas as pd\n",
    "\n",
    "text = open('test.txt')\n",
    "text_ = text.read()\n",
    "text = text_.replace('.','').replace(',','')"
   ]
  },
  {
   "cell_type": "code",
   "execution_count": 2,
   "metadata": {},
   "outputs": [],
   "source": [
    "# # Try Sentense translate\n",
    "# sentenses = sent_tokenize(text_)\n",
    "# GoogleTranslator(source='auto', target='th').translate(sentenses[0])"
   ]
  },
  {
   "cell_type": "code",
   "execution_count": 3,
   "metadata": {},
   "outputs": [
    {
     "name": "stdout",
     "output_type": "stream",
     "text": [
      "470\n",
      "487\n"
     ]
    }
   ],
   "source": [
    "# After check the words better use split\n",
    "words_token = word_tokenize(text)\n",
    "print(len(text.split(' ')))\n",
    "print(len(words_token))"
   ]
  },
  {
   "cell_type": "code",
   "execution_count": 4,
   "metadata": {
    "scrolled": true
   },
   "outputs": [],
   "source": [
    "# def getWordnetPos(tag):\n",
    "#     if tag.startswith('J'):\n",
    "#         return wordnet.ADJ\n",
    "#     elif tag.startswith('V'):\n",
    "#         return wordnet.VERB\n",
    "#     elif tag.startswith('N'):\n",
    "#         return wordnet.NOUN\n",
    "#     elif tag.startswith('R'):\n",
    "#         return wordnet.ADV\n",
    "#     else:\n",
    "#         return None\n",
    "    \n",
    "lemmatizer = WordNetLemmatizer()\n",
    "stopwords = stopwords.words('English')\n",
    "\n",
    "list_lem = list(map(lambda word:lemmatizer.lemmatize(word), text.split(' ')))\n",
    "list_lower = list(map(lambda word:word.lower(), list_lem))\n",
    "list_nostop = [w for w in list_lower if w not in stopwords]\n",
    "\n",
    "words_pd = pd.Series(list_nostop).value_counts().reset_index()\n",
    "words_pd.columns = ['words','count']"
   ]
  },
  {
   "cell_type": "code",
   "execution_count": null,
   "metadata": {},
   "outputs": [],
   "source": [
    "# translate batch - translate all words in list <- in 1 request <- avoid problem too many request?\n",
    "translate_list = GoogleTranslator('en', 'th').translate_batch(words_pd['words'].to_list())\n",
    "words_pd['thai'] = pd.Series(translate_list)"
   ]
  },
  {
   "cell_type": "code",
   "execution_count": null,
   "metadata": {},
   "outputs": [],
   "source": [
    "# Try Not using translate batch\n",
    "# def translate(word):\n",
    "#     return GoogleTranslator(source='auto', target='th').translate(word)\n",
    "\n",
    "# words_pd['thai'] = words_pd['words'].apply(translate)"
   ]
  },
  {
   "cell_type": "code",
   "execution_count": null,
   "metadata": {},
   "outputs": [],
   "source": [
    "# test answer 10 words\n",
    "test = words_pd[:10]\n",
    "j=0\n",
    "for i in test['words']:\n",
    "    x = input('{0}:'.format(i))\n",
    "    if x==test['thai'][j]:\n",
    "        print('Correct')\n",
    "    else:\n",
    "        print('False, Answer is: {}'.format(test['thai'][j]))\n",
    "    print('----------------')\n",
    "    j+=1"
   ]
  },
  {
   "cell_type": "markdown",
   "metadata": {},
   "source": [
    "# ------------- More Idea ------------------"
   ]
  },
  {
   "cell_type": "code",
   "execution_count": null,
   "metadata": {},
   "outputs": [],
   "source": [
    "# game to remember the word\n",
    "# rank easy to difficult\n",
    "# sentense tokenize translate sentense\n",
    "# try word tokenize vs split ' '\n",
    "# GUI"
   ]
  },
  {
   "cell_type": "markdown",
   "metadata": {},
   "source": [
    "# ---------------------------------------------"
   ]
  },
  {
   "cell_type": "code",
   "execution_count": null,
   "metadata": {},
   "outputs": [],
   "source": [
    "# https://medium.com/better-programming/lambda-map-and-filter-in-python-4935f248593\n",
    "\n",
    "# Other Translater\n",
    "# https://medium.com/analytics-vidhya/how-to-translate-text-with-python-9d203139dcf5\n",
    "\n",
    "# tokenize vs split\n",
    "# https://stackoverflow.com/questions/35345761/python-re-split-vs-nltk-word-tokenize-and-sent-tokenize"
   ]
  }
 ],
 "metadata": {
  "kernelspec": {
   "display_name": "Python 3",
   "language": "python",
   "name": "python3"
  },
  "language_info": {
   "codemirror_mode": {
    "name": "ipython",
    "version": 3
   },
   "file_extension": ".py",
   "mimetype": "text/x-python",
   "name": "python",
   "nbconvert_exporter": "python",
   "pygments_lexer": "ipython3",
   "version": "3.7.3"
  }
 },
 "nbformat": 4,
 "nbformat_minor": 2
}
