{
 "cells": [
  {
   "cell_type": "code",
   "execution_count": 1,
   "metadata": {},
   "outputs": [],
   "source": [
    "from nltk.tokenize import sent_tokenize, word_tokenize\n",
    "from deep_translator import GoogleTranslator\n",
    "from nltk.stem import WordNetLemmatizer\n",
    "from nltk.corpus import stopwords\n",
    "import nltk\n",
    "import pandas as pd\n",
    "\n",
    "text = open('test.txt')\n",
    "text_ = text.read()\n",
    "text = text_.replace('.','').replace(',','')"
   ]
  },
  {
   "cell_type": "code",
   "execution_count": 2,
   "metadata": {},
   "outputs": [],
   "source": [
    "# # Try Sentense translate\n",
    "# sentenses = sent_tokenize(text_)\n",
    "# GoogleTranslator(source='auto', target='th').translate(sentenses[0])"
   ]
  },
  {
   "cell_type": "code",
   "execution_count": 3,
   "metadata": {},
   "outputs": [
    {
     "name": "stdout",
     "output_type": "stream",
     "text": [
      "470\n",
      "487\n"
     ]
    }
   ],
   "source": [
    "# After check the words better use split\n",
    "words_token = word_tokenize(text)\n",
    "print(len(text.split(' ')))\n",
    "print(len(words_token))"
   ]
  },
  {
   "cell_type": "code",
   "execution_count": 4,
   "metadata": {
    "scrolled": true
   },
   "outputs": [],
   "source": [
    "# def getWordnetPos(tag):\n",
    "#     if tag.startswith('J'):\n",
    "#         return wordnet.ADJ\n",
    "#     elif tag.startswith('V'):\n",
    "#         return wordnet.VERB\n",
    "#     elif tag.startswith('N'):\n",
    "#         return wordnet.NOUN\n",
    "#     elif tag.startswith('R'):\n",
    "#         return wordnet.ADV\n",
    "#     else:\n",
    "#         return None\n",
    "    \n",
    "lemmatizer = WordNetLemmatizer()\n",
    "stopwords = stopwords.words('English')\n",
    "\n",
    "list_lem = list(map(lambda word:lemmatizer.lemmatize(word), text.split(' ')))\n",
    "list_lower = list(map(lambda word:word.lower(), list_lem))\n",
    "list_nostop = [w for w in list_lower if w not in stopwords]\n",
    "\n",
    "words_pd = pd.Series(list_nostop).value_counts().reset_index()\n",
    "words_pd.columns = ['words','count']"
   ]
  },
  {
   "cell_type": "code",
   "execution_count": 5,
   "metadata": {},
   "outputs": [],
   "source": [
    "# translate batch - translate all words in list <- in 1 request <- avoid problem too many request?\n",
    "translate_list = GoogleTranslator('en', 'th').translate_batch(words_pd['words'].to_list())\n",
    "words_pd['thai'] = pd.Series(translate_list)"
   ]
  },
  {
   "cell_type": "code",
   "execution_count": 6,
   "metadata": {},
   "outputs": [],
   "source": [
    "# Try Not using translate batch\n",
    "# def translate(word):\n",
    "#     return GoogleTranslator(source='auto', target='th').translate(word)\n",
    "\n",
    "# words_pd['thai'] = words_pd['words'].apply(translate)"
   ]
  },
  {
   "cell_type": "code",
   "execution_count": 10,
   "metadata": {},
   "outputs": [
    {
     "data": {
      "text/html": [
       "<div>\n",
       "<style scoped>\n",
       "    .dataframe tbody tr th:only-of-type {\n",
       "        vertical-align: middle;\n",
       "    }\n",
       "\n",
       "    .dataframe tbody tr th {\n",
       "        vertical-align: top;\n",
       "    }\n",
       "\n",
       "    .dataframe thead th {\n",
       "        text-align: right;\n",
       "    }\n",
       "</style>\n",
       "<table border=\"1\" class=\"dataframe\">\n",
       "  <thead>\n",
       "    <tr style=\"text-align: right;\">\n",
       "      <th></th>\n",
       "      <th>words</th>\n",
       "      <th>count</th>\n",
       "      <th>thai</th>\n",
       "    </tr>\n",
       "  </thead>\n",
       "  <tbody>\n",
       "    <tr>\n",
       "      <th>0</th>\n",
       "      <td>data</td>\n",
       "      <td>10</td>\n",
       "      <td>ข้อมูล</td>\n",
       "    </tr>\n",
       "    <tr>\n",
       "      <th>1</th>\n",
       "      <td>would</td>\n",
       "      <td>7</td>\n",
       "      <td>จะ</td>\n",
       "    </tr>\n",
       "    <tr>\n",
       "      <th>2</th>\n",
       "      <td>scientist</td>\n",
       "      <td>6</td>\n",
       "      <td>นักวิทยาศาสตร์</td>\n",
       "    </tr>\n",
       "    <tr>\n",
       "      <th>3</th>\n",
       "      <td>tell</td>\n",
       "      <td>5</td>\n",
       "      <td>บอก</td>\n",
       "    </tr>\n",
       "    <tr>\n",
       "      <th>4</th>\n",
       "      <td>thing</td>\n",
       "      <td>5</td>\n",
       "      <td>สิ่ง</td>\n",
       "    </tr>\n",
       "    <tr>\n",
       "      <th>...</th>\n",
       "      <td>...</td>\n",
       "      <td>...</td>\n",
       "      <td>...</td>\n",
       "    </tr>\n",
       "    <tr>\n",
       "      <th>117</th>\n",
       "      <td>starting</td>\n",
       "      <td>1</td>\n",
       "      <td>เริ่มต้น</td>\n",
       "    </tr>\n",
       "    <tr>\n",
       "      <th>118</th>\n",
       "      <td>answer</td>\n",
       "      <td>1</td>\n",
       "      <td>ตอบ</td>\n",
       "    </tr>\n",
       "    <tr>\n",
       "      <th>119</th>\n",
       "      <td>plead</td>\n",
       "      <td>1</td>\n",
       "      <td>ขอร้อง</td>\n",
       "    </tr>\n",
       "    <tr>\n",
       "      <th>120</th>\n",
       "      <td>let's</td>\n",
       "      <td>1</td>\n",
       "      <td>มา</td>\n",
       "    </tr>\n",
       "    <tr>\n",
       "      <th>121</th>\n",
       "      <td>lie</td>\n",
       "      <td>1</td>\n",
       "      <td>โกหก</td>\n",
       "    </tr>\n",
       "  </tbody>\n",
       "</table>\n",
       "<p>122 rows × 3 columns</p>\n",
       "</div>"
      ],
      "text/plain": [
       "         words  count            thai\n",
       "0         data     10          ข้อมูล\n",
       "1        would      7              จะ\n",
       "2    scientist      6  นักวิทยาศาสตร์\n",
       "3         tell      5             บอก\n",
       "4        thing      5            สิ่ง\n",
       "..         ...    ...             ...\n",
       "117   starting      1        เริ่มต้น\n",
       "118     answer      1             ตอบ\n",
       "119      plead      1          ขอร้อง\n",
       "120      let's      1              มา\n",
       "121        lie      1            โกหก\n",
       "\n",
       "[122 rows x 3 columns]"
      ]
     },
     "execution_count": 10,
     "metadata": {},
     "output_type": "execute_result"
    }
   ],
   "source": [
    "words_pd"
   ]
  },
  {
   "cell_type": "code",
   "execution_count": 7,
   "metadata": {},
   "outputs": [
    {
     "name": "stdout",
     "output_type": "stream",
     "text": [
      "data:ข้อมูล\n",
      "Correct\n",
      "----------------\n",
      "would:จะ\n",
      "Correct\n",
      "----------------\n",
      "scientist:นักวิทยาศาสตร์\n",
      "Correct\n",
      "----------------\n",
      "tell:บอก\n",
      "Correct\n",
      "----------------\n",
      "thing:สิ่ง\n",
      "Correct\n",
      "----------------\n",
      "skill:ทักษะ\n",
      "Correct\n",
      "----------------\n",
      "maybe:อาจจะ\n",
      "Correct\n",
      "----------------\n",
      "story:เรื่องราว\n",
      "Correct\n",
      "----------------\n",
      "advantage:ประโยชน์\n",
      "False, Answer is: ความได้เปรียบ\n",
      "----------------\n",
      "competitive:ไม่รู้\n",
      "False, Answer is: การแข่งขัน\n",
      "----------------\n"
     ]
    }
   ],
   "source": [
    "# test answer 10 words\n",
    "test = words_pd[:10]\n",
    "j=0\n",
    "for i in test['words']:\n",
    "    x = input('{0}:'.format(i))\n",
    "    if x==test['thai'][j]:\n",
    "        print('Correct')\n",
    "    else:\n",
    "        print('False, Answer is: {}'.format(test['thai'][j]))\n",
    "    print('----------------')\n",
    "    j+=1"
   ]
  },
  {
   "cell_type": "markdown",
   "metadata": {},
   "source": [
    "# ------------- Next step ------------------"
   ]
  },
  {
   "cell_type": "code",
   "execution_count": 8,
   "metadata": {},
   "outputs": [],
   "source": [
    "# game to remember the word\n",
    "# rank easy to difficult\n",
    "# sentense tokenize translate sentense\n",
    "# try word tokenize vs split ' '\n",
    "# GUI\n",
    "# change words pd to words df\n",
    "# try scrape longdo dict?"
   ]
  },
  {
   "cell_type": "markdown",
   "metadata": {},
   "source": [
    "# ---------------------------------------------"
   ]
  },
  {
   "cell_type": "code",
   "execution_count": 9,
   "metadata": {},
   "outputs": [],
   "source": [
    "# https://medium.com/better-programming/lambda-map-and-filter-in-python-4935f248593\n",
    "\n",
    "# Other Translater\n",
    "# https://medium.com/analytics-vidhya/how-to-translate-text-with-python-9d203139dcf5\n",
    "\n",
    "# tokenize vs split\n",
    "# https://stackoverflow.com/questions/35345761/python-re-split-vs-nltk-word-tokenize-and-sent-tokenize"
   ]
  }
 ],
 "metadata": {
  "kernelspec": {
   "display_name": "Python 3",
   "language": "python",
   "name": "python3"
  },
  "language_info": {
   "codemirror_mode": {
    "name": "ipython",
    "version": 3
   },
   "file_extension": ".py",
   "mimetype": "text/x-python",
   "name": "python",
   "nbconvert_exporter": "python",
   "pygments_lexer": "ipython3",
   "version": "3.7.3"
  }
 },
 "nbformat": 4,
 "nbformat_minor": 2
}
